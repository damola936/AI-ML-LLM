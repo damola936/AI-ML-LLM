{
  "nbformat": 4,
  "nbformat_minor": 0,
  "metadata": {
    "colab": {
      "provenance": [],
      "authorship_tag": "ABX9TyPwCSeBT3oORQw2EHV0A/EH",
      "include_colab_link": true
    },
    "kernelspec": {
      "name": "python3",
      "display_name": "Python 3"
    },
    "language_info": {
      "name": "python"
    }
  },
  "cells": [
    {
      "cell_type": "markdown",
      "metadata": {
        "id": "view-in-github",
        "colab_type": "text"
      },
      "source": [
        "<a href=\"https://colab.research.google.com/github/damola936/AI-ML-LLM/blob/main/LLM_Audio_to_minutes.ipynb\" target=\"_parent\"><img src=\"https://colab.research.google.com/assets/colab-badge.svg\" alt=\"Open In Colab\"/></a>"
      ]
    },
    {
      "cell_type": "markdown",
      "source": [
        "## Create meeting minutes from an Audio file\n",
        "\n",
        "dataset : https://huggingface.co/datasets/huuuyeah/meetingbank"
      ],
      "metadata": {
        "id": "jHGIG6xTrvLp"
      }
    },
    {
      "cell_type": "code",
      "execution_count": null,
      "metadata": {
        "id": "6CnhAEiIrrRw"
      },
      "outputs": [],
      "source": [
        "!pip install -q requests torch bitsandbytes transformers sentencepiece accelerate openai datasets"
      ]
    },
    {
      "cell_type": "code",
      "source": [
        "# imports\n",
        "\n",
        "import os\n",
        "import requests\n",
        "from IPython.display import Markdown, display, update_display\n",
        "from openai import OpenAI\n",
        "from datasets import load_dataset\n",
        "from google.colab import drive\n",
        "from huggingface_hub import login\n",
        "from google.colab import userdata\n",
        "from transformers import AutoTokenizer, AutoModelForCausalLM, TextStreamer, BitsAndBytesConfig"
      ],
      "metadata": {
        "id": "uAC2X-jjsFtc"
      },
      "execution_count": null,
      "outputs": []
    },
    {
      "cell_type": "code",
      "source": [
        "# Constants\n",
        "\n",
        "AUDIO_MODEL = \"whisper-1\"\n",
        "LLAMA = \"meta-llama/Meta-Llama-3.1-8B-Instruct\""
      ],
      "metadata": {
        "id": "BoS5KPnIsimd"
      },
      "execution_count": null,
      "outputs": []
    },
    {
      "cell_type": "code",
      "source": [
        "!wget https://huggingface.co/datasets/huuuyeah/MeetingBank_Audio/resolve/main/Alameda/mp3/alameda-9.zip\n",
        "import zipfile\n",
        "\n",
        "# Path to the downloaded zip file\n",
        "zip_path = \"/content/alameda-9.zip\"\n",
        "\n",
        "# Where you want to extract the contents\n",
        "extract_to = \"alameda-9\"\n",
        "\n",
        "# Open and extract\n",
        "with zipfile.ZipFile(zip_path, 'r') as zip_ref:\n",
        "    zip_ref.extractall(extract_to)\n",
        "\n",
        "print(f\"Extracted files to: {extract_to}\")"
      ],
      "metadata": {
        "id": "SGNDricY1kcH"
      },
      "execution_count": null,
      "outputs": []
    },
    {
      "cell_type": "code",
      "source": [
        "audio_path = \"/content/alameda-9/alameda_de1abff5-e7fd-45af-aa26-29e663bd40b6.mp3\""
      ],
      "metadata": {
        "id": "ArStJsfo2HZC"
      },
      "execution_count": null,
      "outputs": []
    },
    {
      "cell_type": "code",
      "source": [
        "!pip install pydub"
      ],
      "metadata": {
        "id": "xfbyDgFR5Lh3"
      },
      "execution_count": null,
      "outputs": []
    },
    {
      "cell_type": "code",
      "source": [
        "from pydub import AudioSegment\n",
        "\n",
        "# Load the audio file (pydub uses milliseconds)\n",
        "audio_path = \"/content/alameda-9/alameda_de1abff5-e7fd-45af-aa26-29e663bd40b6.mp3\"\n",
        "audio = AudioSegment.from_mp3(audio_path)\n",
        "\n",
        "# Define the first 10 minutes in milliseconds\n",
        "ten_minutes = 10 * 60 * 1000  # 600,000 ms\n",
        "\n",
        "# Trim the audio\n",
        "trimmed_audio = audio[:ten_minutes]\n",
        "\n",
        "# Save the trimmed version (optional)\n",
        "trimmed_audio_path = \"/content/alameda-9/trimmed_alameda_10min.mp3\"\n",
        "trimmed_audio.export(trimmed_audio_path, format=\"mp3\")\n",
        "\n",
        "print(f\"Trimmed audio saved to: {trimmed_audio_path}\")\n"
      ],
      "metadata": {
        "id": "uYqiaMy75KYL"
      },
      "execution_count": null,
      "outputs": []
    },
    {
      "cell_type": "code",
      "source": [
        "# Sign into Huggingface hub\n",
        "\n",
        "hf_token = userdata.get(\"HF_TOKEN\")\n",
        "login(hf_token, add_to_git_credential=True)"
      ],
      "metadata": {
        "id": "Ckc8NdZg2R8z"
      },
      "execution_count": null,
      "outputs": []
    },
    {
      "cell_type": "code",
      "source": [
        "# Sign in to OpenAI using secrets in Colab\n",
        "\n",
        "openai_token = userdata.get(\"OPENAI_API_KEY\")\n",
        "openai = OpenAI(api_key=openai_token)"
      ],
      "metadata": {
        "id": "9Flmm98k2c1i"
      },
      "execution_count": null,
      "outputs": []
    },
    {
      "cell_type": "code",
      "source": [
        "# Use the whisper OpenAI model to convert the Audio to text\n",
        "\n",
        "audio_file = open(trimmed_audio_path, \"rb\")\n",
        "transcription = openai.audio.transcriptions.create(model=AUDIO_MODEL,\n",
        "                                                   file=audio_file, response_format=\"text\")\n",
        "print(transcription)"
      ],
      "metadata": {
        "id": "jPZ3Tine27AV"
      },
      "execution_count": null,
      "outputs": []
    },
    {
      "cell_type": "code",
      "source": [
        "system_message = \"You are an assistant that produces minutes of meetings from transcripts, with summary, key discussion points, takeaways and action items with owners, in markdown.\"\n",
        "user_prompt = f\"Below is an extract transcript of a council meeting. Please write minutes in markdown, including a summary with attendees, location and date; discussion points; takeaways; and action items with owners.\\n{transcription}\"\n",
        "\n",
        "messages = [\n",
        "    {\"role\": \"system\", \"content\": system_message},\n",
        "    {\"role\": \"user\", \"content\": user_prompt}\n",
        "  ]\n"
      ],
      "metadata": {
        "id": "ZJpGsQxM3iN5"
      },
      "execution_count": null,
      "outputs": []
    },
    {
      "cell_type": "code",
      "source": [
        "import torch\n",
        "\n",
        "quant_config = BitsAndBytesConfig(\n",
        "    load_in_4bit=True,\n",
        "    bnb_4bit_use_double_quant=True,\n",
        "    bnb_4bit_computs_dtype=torch.bfloat16,\n",
        "    bnb_4bit_quant_type=\"nf4\"\n",
        ")"
      ],
      "metadata": {
        "id": "idFTKqK_31aC"
      },
      "execution_count": null,
      "outputs": []
    },
    {
      "cell_type": "code",
      "source": [
        "tokenizer = AutoTokenizer.from_pretrained(LLAMA)\n",
        "tokenizer.pad_toke = tokenizer.eos_token\n",
        "inputs = tokenizer.apply_chat_template(messages, return_tensors=\"pt\").to(\"cuda\")\n",
        "streamer = TextStreamer(tokenizer)\n",
        "model = AutoModelForCausalLM.from_pretrained(LLAMA, device_map=\"auto\", quantization_config=quant_config)\n",
        "outputs = model.generate(inputs, max_new_tokens=2000, streamer=streamer)"
      ],
      "metadata": {
        "id": "E-EIp8sC58O1"
      },
      "execution_count": null,
      "outputs": []
    },
    {
      "cell_type": "code",
      "source": [
        "response = tokenizer.decode(outputs[0])"
      ],
      "metadata": {
        "id": "yEmx3Hf-6l52"
      },
      "execution_count": null,
      "outputs": []
    },
    {
      "cell_type": "code",
      "source": [
        "display(Markdown(response))"
      ],
      "metadata": {
        "id": "V4MyPmVx7EDy"
      },
      "execution_count": null,
      "outputs": []
    },
    {
      "cell_type": "markdown",
      "source": [
        "## Turning this to a gradio app"
      ],
      "metadata": {
        "id": "RfXhuFm598Nm"
      }
    },
    {
      "cell_type": "code",
      "source": [
        "!pip install gradio\n",
        "import gradio as gr"
      ],
      "metadata": {
        "id": "-2oVWaf89_PE"
      },
      "execution_count": null,
      "outputs": []
    },
    {
      "cell_type": "code",
      "source": [
        "import random\n",
        "folder_audio_path = \"/content/alameda-1\"\n",
        "folder_audio_path_dirs = os.listdir(folder_audio_path)\n",
        "audio_path = random.choice(folder_audio_path_dirs)\n",
        "print(audio_path)"
      ],
      "metadata": {
        "id": "hRuf-kK_I1SW"
      },
      "execution_count": null,
      "outputs": []
    },
    {
      "cell_type": "code",
      "source": [
        "# FUNCTIONS--------\n",
        "\n",
        "# Commenting this out to remove download time, uncomment to download link if new link, already downloaded so just set the audo link directory\n",
        "# def unpack_dataset(link):\n",
        "#     import zipfile\n",
        "\n",
        "#     # Use the link to get the zip file name\n",
        "#     zip_filename = link.split(\"/\")[-1]\n",
        "#     zip_path = f\"/content/{zip_filename}\"\n",
        "#     extract_to = zip_filename.split(\".\")[0]\n",
        "\n",
        "#     # Download the file\n",
        "#     !wget -O \"$zip_path\" \"$link\"\n",
        "\n",
        "#     # Extract the zip file\n",
        "#     with zipfile.ZipFile(zip_path, 'r') as zip_ref:\n",
        "#         zip_ref.extractall(f\"/content/{extract_to}\")\n",
        "\n",
        "#     print(f\"Extracted files to: /content/{extract_to}\")\n",
        "#     return f\"/content/{extract_to}\"\n",
        "\n",
        "\n",
        "\n",
        "def trim_audio(link):\n",
        "    import os\n",
        "    import random\n",
        "    from pydub import AudioSegment\n",
        "\n",
        "    # Load the audio file (pydub uses milliseconds)\n",
        "    folder_audio_path = link\n",
        "    folder_audio_path_dirs = os.listdir(folder_audio_path)\n",
        "    audio_path = f\"{folder_audio_path}/{random.choice(folder_audio_path_dirs)}\"\n",
        "\n",
        "    audio = AudioSegment.from_mp3(audio_path)\n",
        "\n",
        "    # Define the first 10 minutes in milliseconds\n",
        "    ten_minutes = 10 * 60 * 1000  # 600,000 ms\n",
        "\n",
        "    # Trim the audio\n",
        "    trimmed_audio = audio[:ten_minutes]\n",
        "\n",
        "    # Save the trimmed version (optional)\n",
        "    trimmed_audio_path = f'/content/{link.split(\"/\")[-1]}/trimmed_{link.split(\"/\")[-1]}_10min.mp3'\n",
        "    trimmed_audio.export(trimmed_audio_path, format=\"mp3\")\n",
        "\n",
        "    print(f\"Trimmed audio saved to: {trimmed_audio_path}\")\n",
        "    return trimmed_audio_path\n",
        "\n",
        "\n",
        "def generate_text_from_audio_link(link):\n",
        "    # Audio files from Hugging face datasets are usually long so we will have to trim it, let's load the dataset first\n",
        "    print(\"Unpacking dataset...\")\n",
        "    # audio_link = unpack_dataset(link) use this when you uncomment  unpack_dataset function\n",
        "    audio_link = \"/content/alameda-1\"\n",
        "    print(\"Trimming audio... this will take a while...\")\n",
        "    trimmed_audio_path = trim_audio(audio_link)\n",
        "\n",
        "    print(\"Extracting audio...\")\n",
        "    # Transcribe audio\n",
        "    audio_file = open(trimmed_audio_path, \"rb\")\n",
        "    transcription = openai.audio.transcriptions.create(model=AUDIO_MODEL,\n",
        "                                                    file=audio_file, response_format=\"text\")\n",
        "\n",
        "    # Set the quantization object\n",
        "    quant_config = BitsAndBytesConfig(\n",
        "    load_in_4bit=True,\n",
        "    bnb_4bit_use_double_quant=True,\n",
        "    bnb_4bit_computs_dtype=torch.bfloat16,\n",
        "    bnb_4bit_quant_type=\"nf4\")\n",
        "\n",
        "    print(\"Generating summary...\")\n",
        "    # Get the tokenizer, model and generate summary and minutes\n",
        "    tokenizer = AutoTokenizer.from_pretrained(LLAMA)\n",
        "    tokenizer.pad_token = tokenizer.eos_token\n",
        "    inputs = tokenizer.apply_chat_template(messages, return_tensors=\"pt\").to(\"cuda\")\n",
        "    streamer = TextStreamer(tokenizer)\n",
        "    model = AutoModelForCausalLM.from_pretrained(LLAMA, device_map=\"auto\", quantization_config=quant_config)\n",
        "    outputs = model.generate(inputs, max_new_tokens=2000, streamer=streamer)\n",
        "    decoded_text = tokenizer.decode(outputs[0], skip_special_tokens=False)\n",
        "    response = decoded_text.split(\"<|end_header_id|>\")[-1]\n",
        "    return response"
      ],
      "metadata": {
        "id": "KNEnTS5e_veW"
      },
      "execution_count": null,
      "outputs": []
    },
    {
      "cell_type": "code",
      "source": [
        "gr.Interface(fn=generate_text_from_audio_link, inputs=\"textbox\", outputs=\"textbox\").launch(inbrowser=True, debug=True)"
      ],
      "metadata": {
        "id": "VvRzCWNB_YKi"
      },
      "execution_count": null,
      "outputs": []
    }
  ]
}